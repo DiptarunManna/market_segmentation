{
 "cells": [
  {
   "cell_type": "code",
   "execution_count": 23,
   "id": "7c525a56",
   "metadata": {},
   "outputs": [],
   "source": [
    "import pandas as pd\n",
    "from sklearn.cluster import KMeans\n",
    "import matplotlib.pyplot as plt\n",
    "from sklearn.preprocessing import StandardScaler\n",
    "import seaborn as sns"
   ]
  },
  {
   "cell_type": "code",
   "execution_count": 24,
   "id": "edb6fd62",
   "metadata": {},
   "outputs": [],
   "source": [
    "sales_df = pd.read_csv('ev_sales_by_makers_and_cat_15-24.csv')\n",
    "place_df = pd.read_csv('EV Maker by Place.csv')"
   ]
  },
  {
   "cell_type": "code",
   "execution_count": 25,
   "id": "f2d319ba",
   "metadata": {},
   "outputs": [
    {
     "name": "stdout",
     "output_type": "stream",
     "text": [
      "<class 'pandas.core.frame.DataFrame'>\n",
      "RangeIndex: 1386 entries, 0 to 1385\n",
      "Data columns (total 12 columns):\n",
      " #   Column  Non-Null Count  Dtype \n",
      "---  ------  --------------  ----- \n",
      " 0   Cat     1386 non-null   object\n",
      " 1   Maker   1386 non-null   object\n",
      " 2   2015    1386 non-null   int64 \n",
      " 3   2016    1386 non-null   int64 \n",
      " 4   2017    1386 non-null   int64 \n",
      " 5   2018    1386 non-null   int64 \n",
      " 6   2019    1386 non-null   int64 \n",
      " 7   2020    1386 non-null   int64 \n",
      " 8   2021    1386 non-null   int64 \n",
      " 9   2022    1386 non-null   int64 \n",
      " 10  2023    1386 non-null   int64 \n",
      " 11  2024    1386 non-null   int64 \n",
      "dtypes: int64(10), object(2)\n",
      "memory usage: 130.1+ KB\n"
     ]
    }
   ],
   "source": [
    "# Show the first few rows and basic info of each to understand structure\n",
    "sales_preview = sales_df.head()\n",
    "sales_info = sales_df.info()"
   ]
  },
  {
   "cell_type": "code",
   "execution_count": 26,
   "id": "8a7ba616",
   "metadata": {},
   "outputs": [
    {
     "name": "stdout",
     "output_type": "stream",
     "text": [
      "<class 'pandas.core.frame.DataFrame'>\n",
      "RangeIndex: 62 entries, 0 to 61\n",
      "Data columns (total 3 columns):\n",
      " #   Column    Non-Null Count  Dtype \n",
      "---  ------    --------------  ----- \n",
      " 0   EV Maker  62 non-null     object\n",
      " 1   Place     62 non-null     object\n",
      " 2   State     62 non-null     object\n",
      "dtypes: object(3)\n",
      "memory usage: 1.6+ KB\n"
     ]
    }
   ],
   "source": [
    "place_preview = place_df.head()\n",
    "place_info = place_df.info()"
   ]
  },
  {
   "cell_type": "code",
   "execution_count": 27,
   "id": "d54e1adb",
   "metadata": {},
   "outputs": [
    {
     "data": {
      "text/plain": [
       "(  Cat                          Maker  2015  2016  2017  2018  2019  2020  \\\n",
       " 0  3W    \"VOLVO GROUP INDIA PVT LTD\"     0     0    31    12     0     0   \n",
       " 1  3W         3EV INDUSTRIES PVT LTD     0     0     0     0     0     0   \n",
       " 2  2W         3GB TECHNOLOGY PVT LTD     0     0     0     1     0     0   \n",
       " 3  3W         3GB TECHNOLOGY PVT LTD     0     1     1     0     0     0   \n",
       " 4  3W  3S INDUSTRIES PRIVATE LIMITED     0     0     0     0    48    66   \n",
       " \n",
       "    2021  2022  2023  2024  \n",
       " 0     0     0     0     0  \n",
       " 1   112   390   545    51  \n",
       " 2     0     0     0     0  \n",
       " 3     0     0     0     0  \n",
       " 4    43    68   266   578  ,\n",
       "             EV Maker        Place        State\n",
       " 0        Tata Motors         Pune  Maharashtra\n",
       " 1  Mahindra Electric    Bengaluru    Karnataka\n",
       " 2       Ather Energy    Bengaluru    Karnataka\n",
       " 3      Hero Electric    New Delhi        Delhi\n",
       " 4       Ola Electric  Krishnagiri   Tamil Nadu)"
      ]
     },
     "execution_count": 27,
     "metadata": {},
     "output_type": "execute_result"
    }
   ],
   "source": [
    "(sales_preview, place_preview)"
   ]
  },
  {
   "cell_type": "code",
   "execution_count": 28,
   "id": "6be57231",
   "metadata": {},
   "outputs": [],
   "source": [
    "# Calculate total, mean, std, and growth\n",
    "sales_df['Total_Sales'] = sales_df.loc[:, '2015':'2024'].sum(axis=1)\n",
    "sales_df['Mean_Sales'] = sales_df.loc[:, '2015':'2024'].mean(axis=1)\n",
    "sales_df['Std_Sales'] = sales_df.loc[:, '2015':'2024'].std(axis=1)\n",
    "sales_df['Growth'] = sales_df['2024'] - sales_df['2015']"
   ]
  },
  {
   "cell_type": "code",
   "execution_count": 29,
   "id": "02da469c",
   "metadata": {},
   "outputs": [],
   "source": [
    "# Drop duplicate maker-category combinations, keeping the latest entry if needed\n",
    "sales_summary = sales_df.groupby(['Maker', 'Cat'], as_index=False).agg({\n",
    "    'Total_Sales': 'sum',\n",
    "    'Mean_Sales': 'mean',\n",
    "    'Std_Sales': 'mean',\n",
    "    'Growth': 'sum'\n",
    "})"
   ]
  },
  {
   "cell_type": "code",
   "execution_count": 30,
   "id": "ec0f3ffd",
   "metadata": {},
   "outputs": [
    {
     "data": {
      "text/html": [
       "<div>\n",
       "<style scoped>\n",
       "    .dataframe tbody tr th:only-of-type {\n",
       "        vertical-align: middle;\n",
       "    }\n",
       "\n",
       "    .dataframe tbody tr th {\n",
       "        vertical-align: top;\n",
       "    }\n",
       "\n",
       "    .dataframe thead th {\n",
       "        text-align: right;\n",
       "    }\n",
       "</style>\n",
       "<table border=\"1\" class=\"dataframe\">\n",
       "  <thead>\n",
       "    <tr style=\"text-align: right;\">\n",
       "      <th></th>\n",
       "      <th>Maker</th>\n",
       "      <th>Cat</th>\n",
       "      <th>Total_Sales</th>\n",
       "      <th>Mean_Sales</th>\n",
       "      <th>Std_Sales</th>\n",
       "      <th>Growth</th>\n",
       "    </tr>\n",
       "  </thead>\n",
       "  <tbody>\n",
       "    <tr>\n",
       "      <th>0</th>\n",
       "      <td>\"VOLVO GROUP INDIA PVT LTD\"</td>\n",
       "      <td>3W</td>\n",
       "      <td>43</td>\n",
       "      <td>4.3</td>\n",
       "      <td>10.111050</td>\n",
       "      <td>0</td>\n",
       "    </tr>\n",
       "    <tr>\n",
       "      <th>1</th>\n",
       "      <td>3EV INDUSTRIES PVT LTD</td>\n",
       "      <td>3W</td>\n",
       "      <td>1098</td>\n",
       "      <td>109.8</td>\n",
       "      <td>195.422505</td>\n",
       "      <td>51</td>\n",
       "    </tr>\n",
       "    <tr>\n",
       "      <th>2</th>\n",
       "      <td>3GB TECHNOLOGY PVT LTD</td>\n",
       "      <td>2W</td>\n",
       "      <td>1</td>\n",
       "      <td>0.1</td>\n",
       "      <td>0.316228</td>\n",
       "      <td>0</td>\n",
       "    </tr>\n",
       "    <tr>\n",
       "      <th>3</th>\n",
       "      <td>3GB TECHNOLOGY PVT LTD</td>\n",
       "      <td>3W</td>\n",
       "      <td>2</td>\n",
       "      <td>0.2</td>\n",
       "      <td>0.421637</td>\n",
       "      <td>0</td>\n",
       "    </tr>\n",
       "    <tr>\n",
       "      <th>4</th>\n",
       "      <td>3S INDUSTRIES PRIVATE LIMITED</td>\n",
       "      <td>3W</td>\n",
       "      <td>1069</td>\n",
       "      <td>106.9</td>\n",
       "      <td>183.695672</td>\n",
       "      <td>578</td>\n",
       "    </tr>\n",
       "  </tbody>\n",
       "</table>\n",
       "</div>"
      ],
      "text/plain": [
       "                           Maker Cat  Total_Sales  Mean_Sales   Std_Sales  \\\n",
       "0    \"VOLVO GROUP INDIA PVT LTD\"  3W           43         4.3   10.111050   \n",
       "1         3EV INDUSTRIES PVT LTD  3W         1098       109.8  195.422505   \n",
       "2         3GB TECHNOLOGY PVT LTD  2W            1         0.1    0.316228   \n",
       "3         3GB TECHNOLOGY PVT LTD  3W            2         0.2    0.421637   \n",
       "4  3S INDUSTRIES PRIVATE LIMITED  3W         1069       106.9  183.695672   \n",
       "\n",
       "   Growth  \n",
       "0       0  \n",
       "1      51  \n",
       "2       0  \n",
       "3       0  \n",
       "4     578  "
      ]
     },
     "execution_count": 30,
     "metadata": {},
     "output_type": "execute_result"
    }
   ],
   "source": [
    "# Preview the processed data\n",
    "sales_summary.head()"
   ]
  },
  {
   "cell_type": "code",
   "execution_count": 31,
   "id": "cbef1fb5",
   "metadata": {},
   "outputs": [],
   "source": [
    "# Assuming `sales_summary` is your processed DataFrame\n",
    "features = ['Total_Sales', 'Mean_Sales', 'Std_Sales', 'Growth']\n",
    "scaler = StandardScaler()\n",
    "scaled_data = scaler.fit_transform(sales_summary[features])"
   ]
  },
  {
   "cell_type": "code",
   "execution_count": 32,
   "id": "bcd1d8d5",
   "metadata": {},
   "outputs": [],
   "source": [
    "inertia = []\n",
    "k_range = range(1, 11)\n",
    "for k in k_range:\n",
    "    kmeans = KMeans(n_clusters=k, random_state=42, n_init=10)\n",
    "    kmeans.fit(scaled_data)\n",
    "    inertia.append(kmeans.inertia_)"
   ]
  },
  {
   "cell_type": "code",
   "execution_count": 33,
   "id": "17a171a9",
   "metadata": {},
   "outputs": [
    {
     "data": {
      "image/png": "[encoded data removed]",
      "text/plain": [
       "<Figure size 640x480 with 1 Axes>"
      ]
     },
     "metadata": {},
     "output_type": "display_data"
    }
   ],
   "source": [
    "plt.plot(k_range, inertia, marker='o')\n",
    "plt.title(\"Elbow Method for Optimal K\")\n",
    "plt.xlabel(\"Number of Clusters\")\n",
    "plt.ylabel(\"Inertia\")\n",
    "plt.grid(True)\n",
    "plt.show()"
   ]
  },
  {
   "cell_type": "code",
   "execution_count": 34,
   "id": "681cb3d7",
   "metadata": {},
   "outputs": [],
   "source": [
    "# Recalculate metrics\n",
    "sales_df['Total_Sales'] = sales_df.loc[:, '2015':'2024'].sum(axis=1)\n",
    "sales_df['Mean_Sales'] = sales_df.loc[:, '2015':'2024'].mean(axis=1)\n",
    "sales_df['Std_Sales'] = sales_df.loc[:, '2015':'2024'].std(axis=1)\n",
    "sales_df['Growth'] = sales_df['2024'] - sales_df['2015']"
   ]
  },
  {
   "cell_type": "code",
   "execution_count": 35,
   "id": "28790523",
   "metadata": {},
   "outputs": [],
   "source": [
    "# Aggregate metrics by Maker and Category\n",
    "sales_summary = sales_df.groupby(['Maker', 'Cat'], as_index=False).agg({\n",
    "    'Total_Sales': 'sum',\n",
    "    'Mean_Sales': 'mean',\n",
    "    'Std_Sales': 'mean',\n",
    "    'Growth': 'sum'\n",
    "})"
   ]
  },
  {
   "cell_type": "code",
   "execution_count": 36,
   "id": "3f869d47",
   "metadata": {},
   "outputs": [],
   "source": [
    "# Normalize selected features\n",
    "features = ['Total_Sales', 'Mean_Sales', 'Std_Sales', 'Growth']\n",
    "scaler = StandardScaler()\n",
    "scaled_data = scaler.fit_transform(sales_summary[features])"
   ]
  },
  {
   "cell_type": "code",
   "execution_count": 37,
   "id": "280f536f",
   "metadata": {},
   "outputs": [],
   "source": [
    "# KMeans clustering with k=3\n",
    "kmeans = KMeans(n_clusters=3, random_state=42, n_init=10)\n",
    "sales_summary['Cluster'] = kmeans.fit_predict(scaled_data)"
   ]
  },
  {
   "cell_type": "code",
   "execution_count": 38,
   "id": "736ed035",
   "metadata": {},
   "outputs": [],
   "source": [
    "# Analyze cluster distribution and profile\n",
    "cluster_counts = sales_summary['Cluster'].value_counts().sort_index()\n",
    "cluster_profiles = sales_summary.groupby('Cluster')[features].mean()"
   ]
  },
  {
   "cell_type": "code",
   "execution_count": 39,
   "id": "3ccbd350",
   "metadata": {},
   "outputs": [
    {
     "data": {
      "text/plain": [
       "(Cluster\n",
       " 0    1378\n",
       " 1       1\n",
       " 2       7\n",
       " Name: count, dtype: int64,\n",
       "            Total_Sales    Mean_Sales      Std_Sales         Growth\n",
       " Cluster                                                           \n",
       " 0          1747.694485    174.769448     250.087875     361.851959\n",
       " 1        588266.000000  58826.600000  101913.507927  211273.000000\n",
       " 2        203473.428571  20347.342857   32281.811554   37326.571429)"
      ]
     },
     "execution_count": 39,
     "metadata": {},
     "output_type": "execute_result"
    }
   ],
   "source": [
    "cluster_counts, cluster_profiles"
   ]
  },
  {
   "cell_type": "code",
   "execution_count": 40,
   "id": "ca29e812",
   "metadata": {},
   "outputs": [
    {
     "data": {
      "text/html": [
       "<div>\n",
       "<style scoped>\n",
       "    .dataframe tbody tr th:only-of-type {\n",
       "        vertical-align: middle;\n",
       "    }\n",
       "\n",
       "    .dataframe tbody tr th {\n",
       "        vertical-align: top;\n",
       "    }\n",
       "\n",
       "    .dataframe thead th {\n",
       "        text-align: right;\n",
       "    }\n",
       "</style>\n",
       "<table border=\"1\" class=\"dataframe\">\n",
       "  <thead>\n",
       "    <tr style=\"text-align: right;\">\n",
       "      <th></th>\n",
       "      <th>EV Maker</th>\n",
       "      <th>Place</th>\n",
       "      <th>State</th>\n",
       "    </tr>\n",
       "  </thead>\n",
       "  <tbody>\n",
       "    <tr>\n",
       "      <th>0</th>\n",
       "      <td>Tata Motors</td>\n",
       "      <td>Pune</td>\n",
       "      <td>Maharashtra</td>\n",
       "    </tr>\n",
       "    <tr>\n",
       "      <th>1</th>\n",
       "      <td>Mahindra Electric</td>\n",
       "      <td>Bengaluru</td>\n",
       "      <td>Karnataka</td>\n",
       "    </tr>\n",
       "    <tr>\n",
       "      <th>2</th>\n",
       "      <td>Ather Energy</td>\n",
       "      <td>Bengaluru</td>\n",
       "      <td>Karnataka</td>\n",
       "    </tr>\n",
       "    <tr>\n",
       "      <th>3</th>\n",
       "      <td>Hero Electric</td>\n",
       "      <td>New Delhi</td>\n",
       "      <td>Delhi</td>\n",
       "    </tr>\n",
       "    <tr>\n",
       "      <th>4</th>\n",
       "      <td>Ola Electric</td>\n",
       "      <td>Krishnagiri</td>\n",
       "      <td>Tamil Nadu</td>\n",
       "    </tr>\n",
       "  </tbody>\n",
       "</table>\n",
       "</div>"
      ],
      "text/plain": [
       "            EV Maker        Place        State\n",
       "0        Tata Motors         Pune  Maharashtra\n",
       "1  Mahindra Electric    Bengaluru    Karnataka\n",
       "2       Ather Energy    Bengaluru    Karnataka\n",
       "3      Hero Electric    New Delhi        Delhi\n",
       "4       Ola Electric  Krishnagiri   Tamil Nadu"
      ]
     },
     "execution_count": 40,
     "metadata": {},
     "output_type": "execute_result"
    }
   ],
   "source": [
    "#2nd Dataset Segmentaation\n",
    "place_df.head()"
   ]
  },
  {
   "cell_type": "code",
   "execution_count": 41,
   "id": "ea778ee9",
   "metadata": {},
   "outputs": [],
   "source": [
    "state_counts = place_df['State'].value_counts().reset_index()\n",
    "state_counts.columns = ['State', 'EV_Maker_Count']"
   ]
  },
  {
   "cell_type": "code",
   "execution_count": 42,
   "id": "7faf700b",
   "metadata": {},
   "outputs": [],
   "source": [
    "scaler = StandardScaler()\n",
    "scaled_data = scaler.fit_transform(state_counts[['EV_Maker_Count']])"
   ]
  },
  {
   "cell_type": "code",
   "execution_count": 43,
   "id": "e0455bc0",
   "metadata": {},
   "outputs": [
    {
     "name": "stderr",
     "output_type": "stream",
     "text": [
      "c:\\Users\\dipta\\anaconda3\\Lib\\site-packages\\sklearn\\cluster\\_kmeans.py:1446: UserWarning: KMeans is known to have a memory leak on Windows with MKL, when there are less chunks than available threads. You can avoid it by setting the environment variable OMP_NUM_THREADS=1.\n",
      "  warnings.warn(\n"
     ]
    }
   ],
   "source": [
    "kmeans = KMeans(n_clusters=3, random_state=42, n_init=10)\n",
    "state_counts['Cluster'] = kmeans.fit_predict(scaled_data)"
   ]
  },
  {
   "cell_type": "code",
   "execution_count": 44,
   "id": "70fa3eea",
   "metadata": {},
   "outputs": [
    {
     "name": "stdout",
     "output_type": "stream",
     "text": [
      "Cluster\n",
      "0    6\n",
      "2    5\n",
      "1    2\n",
      "Name: count, dtype: int64\n",
      "Cluster\n",
      "0     1.833333\n",
      "1    13.000000\n",
      "2     5.000000\n",
      "Name: EV_Maker_Count, dtype: float64\n"
     ]
    }
   ],
   "source": [
    "# Count how many states fall into each cluster\n",
    "print(state_counts['Cluster'].value_counts())\n",
    "\n",
    "# View cluster profiles\n",
    "print(state_counts.groupby('Cluster')['EV_Maker_Count'].mean())"
   ]
  },
  {
   "cell_type": "code",
   "execution_count": 45,
   "id": "54ee4ad4",
   "metadata": {},
   "outputs": [
    {
     "data": {
      "image/png": "[encoded data removed]",
      "text/plain": [
       "<Figure size 1200x600 with 1 Axes>"
      ]
     },
     "metadata": {},
     "output_type": "display_data"
    }
   ],
   "source": [
    "plt.figure(figsize=(12, 6))\n",
    "sns.barplot(data=state_counts.sort_values(by='EV_Maker_Count', ascending=False),\n",
    "            x='State', y='EV_Maker_Count', hue='Cluster', palette='viridis')\n",
    "plt.xticks(rotation=45, ha='right')\n",
    "plt.title('EV Makers by State Clustered')\n",
    "plt.tight_layout()\n",
    "plt.show()"
   ]
  }
 ],
 "metadata": {
  "kernelspec": {
   "display_name": "base",
   "language": "python",
   "name": "python3"
  },
  "language_info": {
   "codemirror_mode": {
    "name": "ipython",
    "version": 3
   },
   "file_extension": ".py",
   "mimetype": "text/x-python",
   "name": "python",
   "nbconvert_exporter": "python",
   "pygments_lexer": "ipython3",
   "version": "3.12.4"
  }
 },
 "nbformat": 4,
 "nbformat_minor": 5
}
